{
 "cells": [
  {
   "cell_type": "code",
   "execution_count": 1,
   "metadata": {},
   "outputs": [],
   "source": [
    "#Import relevant modules\n",
    "import time\n",
    "import re\n",
    "import pandas as pd\n",
    "import requests\n",
    "from bs4 import BeautifulSoup\n",
    "from selenium import webdriver\n",
    "from selenium.webdriver.common.keys import Keys\n",
    "from selenium.webdriver.support.ui import WebDriverWait\n",
    "from selenium.webdriver.common.by import By"
   ]
  },
  {
   "cell_type": "code",
   "execution_count": 2,
   "metadata": {},
   "outputs": [
    {
     "data": {
      "text/plain": [
       "'2020-11-4'"
      ]
     },
     "execution_count": 2,
     "metadata": {},
     "output_type": "execute_result"
    }
   ],
   "source": [
    "# get coming race day from schedule csv\n",
    "df = pd.read_csv('../data/schedule/schedule_s2021.csv')\n",
    "df.columns = ['year','month','day']\n",
    "df['next_race_day']=pd.to_datetime(df)\n",
    "min_idx=df[df['next_race_day']>pd.Timestamp('today')]['next_race_day'].idxmin()\n",
    "next_race_day=df.loc[min_idx,'next_race_day']\n",
    "coming_race_day=str(next_race_day.year)+'-'+str(next_race_day.month)+'-'+str(next_race_day.day)\n",
    "coming_race_day"
   ]
  },
  {
   "cell_type": "code",
   "execution_count": 3,
   "metadata": {},
   "outputs": [],
   "source": [
    "driver = webdriver.Chrome('/Users/Hei/Applications/chromedriver')"
   ]
  },
  {
   "cell_type": "code",
   "execution_count": 4,
   "metadata": {},
   "outputs": [
    {
     "data": {
      "text/plain": [
       "'https://bet.hkjc.com/racing/pages/odds_wp.aspx?lang=en&date=2020-11-4&raceno=1'"
      ]
     },
     "execution_count": 4,
     "metadata": {},
     "output_type": "execute_result"
    }
   ],
   "source": [
    "coming_race_day\n",
    "suffix_raceno='1' #hardcode for test, default =1\n",
    "URL_coming_race = 'https://bet.hkjc.com/racing/pages/odds_wp.aspx?lang=en&date='+coming_race_day+'&raceno='+suffix_raceno\n",
    "URL_coming_race"
   ]
  },
  {
   "cell_type": "code",
   "execution_count": 5,
   "metadata": {},
   "outputs": [],
   "source": [
    "# Initialize soup for getting number of race\n",
    "driver.get(URL_coming_race)\n",
    "time.sleep(5)\n",
    "subhtml = driver.page_source\n",
    "soup = BeautifulSoup(subhtml, 'html.parser')\n",
    "\n",
    "# Initialize dataframe\n",
    "df_race = pd.DataFrame(columns=['season','race','horse_no','horse','jockey','trainer','class','track','location',\\\n",
    "                                'actual_weight','draw','distance_m','win_odds','date'])\n",
    "\n",
    "# Get location\n",
    "location=soup.find('div',{'class':'mtgInfoDV'}).text.split(',')[2].strip()"
   ]
  },
  {
   "cell_type": "code",
   "execution_count": 6,
   "metadata": {},
   "outputs": [],
   "source": [
    "def get_no_of_race():\n",
    "    racebg = soup.find(class_=\"racebg\").contents\n",
    "    count_race=0\n",
    "    for i in range(len(racebg)):\n",
    "        if racebg[i] !='\\n' and len(racebg[i].attrs)==4 and 'id' in racebg[i].attrs.keys():\n",
    "            count_race+=1\n",
    "    return count_race\n",
    "\n",
    "def get_race_info():\n",
    "    pattern=[p.text for p in soup.find_all('strong')]\n",
    "    line=' '.join(pattern)\n",
    "    match_str = re.search(r'Race\\s(\\d+)', line)\n",
    "    race=match_str.group(1)\n",
    "    race_info=soup.find('span',{'class':'content'}).text.split(',')\n",
    "    date=race_info[1].strip()\n",
    "    race_class=race_info[3].strip()\n",
    "    turf=race_info[4].strip()\n",
    "    course=race_info[5].strip()\n",
    "    track=turf+' - '+course\n",
    "    distance=race_info[6].strip()[:-1]\n",
    "    return race,date,race_class,track,distance\n",
    "\n",
    "def write_table():\n",
    "    race_no,date,race_class,track,distance=get_race_info()\n",
    "    dict_table={'season':[],'race':[],'horse_no':[],'horse':[],'jockey':[],'trainer':[],'class':[],'track':[],\\\n",
    "                'location':[],'actual_weight':[],'draw':[],'distance_m':[],'win_odds':[],'date':[]}\n",
    "    table = soup.find_all(id='horseTable')[0].tbody.find_all('td')[:-6]\n",
    "    for i in range(len(table)):\n",
    "        if i %10==0:\n",
    "            dict_table['season'].append('2020/2021')\n",
    "            dict_table['race'].append(race_no)\n",
    "            dict_table['class'].append(race_class)\n",
    "            dict_table['track'].append(track)\n",
    "            dict_table['location'].append(location)\n",
    "            dict_table['distance_m'].append(distance)\n",
    "            dict_table['date'].append(date)\n",
    "            dict_table['horse_no'].append(table[i].text)\n",
    "        elif i%10==2:\n",
    "            dict_table['horse'].append(table[i].text)\n",
    "        elif i%10==3:\n",
    "            dict_table['draw'].append(table[i].text)\n",
    "        elif i%10==4:\n",
    "            dict_table['actual_weight'].append(table[i].text)\n",
    "        elif i%10==5:\n",
    "            dict_table['jockey'].append(table[i].text)\n",
    "        elif i%10==6:\n",
    "            dict_table['trainer'].append(table[i].text)\n",
    "        elif i%10==7:\n",
    "            dict_table['win_odds'].append(table[i].text)\n",
    "    df=pd.DataFrame(dict_table)\n",
    "    return df\n"
   ]
  },
  {
   "cell_type": "code",
   "execution_count": 7,
   "metadata": {
    "scrolled": true
   },
   "outputs": [
    {
     "ename": "IndexError",
     "evalue": "list index out of range",
     "output_type": "error",
     "traceback": [
      "\u001b[0;31m---------------------------------------------------------------------------\u001b[0m",
      "\u001b[0;31mIndexError\u001b[0m                                Traceback (most recent call last)",
      "\u001b[0;32m<ipython-input-7-9e97055a06f2>\u001b[0m in \u001b[0;36m<module>\u001b[0;34m\u001b[0m\n\u001b[1;32m     10\u001b[0m     \u001b[0;31m#get horse inforamtion for each race\u001b[0m\u001b[0;34m\u001b[0m\u001b[0;34m\u001b[0m\u001b[0;34m\u001b[0m\u001b[0m\n\u001b[1;32m     11\u001b[0m     \u001b[0mtable\u001b[0m \u001b[0;34m=\u001b[0m \u001b[0msoup\u001b[0m\u001b[0;34m.\u001b[0m\u001b[0mfind_all\u001b[0m\u001b[0;34m(\u001b[0m\u001b[0mid\u001b[0m\u001b[0;34m=\u001b[0m\u001b[0;34m'horseTable'\u001b[0m\u001b[0;34m)\u001b[0m\u001b[0;34m[\u001b[0m\u001b[0;36m0\u001b[0m\u001b[0;34m]\u001b[0m\u001b[0;34m.\u001b[0m\u001b[0mtbody\u001b[0m\u001b[0;34m.\u001b[0m\u001b[0mfind_all\u001b[0m\u001b[0;34m(\u001b[0m\u001b[0;34m'td'\u001b[0m\u001b[0;34m)\u001b[0m\u001b[0;34m[\u001b[0m\u001b[0;34m:\u001b[0m\u001b[0;34m-\u001b[0m\u001b[0;36m6\u001b[0m\u001b[0;34m]\u001b[0m\u001b[0;34m\u001b[0m\u001b[0;34m\u001b[0m\u001b[0m\n\u001b[0;32m---> 12\u001b[0;31m     \u001b[0mdf_race\u001b[0m\u001b[0;34m=\u001b[0m\u001b[0mpd\u001b[0m\u001b[0;34m.\u001b[0m\u001b[0mconcat\u001b[0m\u001b[0;34m(\u001b[0m\u001b[0;34m[\u001b[0m\u001b[0mdf_race\u001b[0m\u001b[0;34m,\u001b[0m\u001b[0mwrite_table\u001b[0m\u001b[0;34m(\u001b[0m\u001b[0;34m)\u001b[0m\u001b[0;34m]\u001b[0m\u001b[0;34m)\u001b[0m\u001b[0;34m\u001b[0m\u001b[0;34m\u001b[0m\u001b[0m\n\u001b[0m\u001b[1;32m     13\u001b[0m \u001b[0mdf_race\u001b[0m\u001b[0;34m\u001b[0m\u001b[0;34m\u001b[0m\u001b[0m\n",
      "\u001b[0;32m<ipython-input-6-1cc1b9e0c54f>\u001b[0m in \u001b[0;36mwrite_table\u001b[0;34m()\u001b[0m\n\u001b[1;32m     22\u001b[0m \u001b[0;34m\u001b[0m\u001b[0m\n\u001b[1;32m     23\u001b[0m \u001b[0;32mdef\u001b[0m \u001b[0mwrite_table\u001b[0m\u001b[0;34m(\u001b[0m\u001b[0;34m)\u001b[0m\u001b[0;34m:\u001b[0m\u001b[0;34m\u001b[0m\u001b[0;34m\u001b[0m\u001b[0m\n\u001b[0;32m---> 24\u001b[0;31m     \u001b[0mrace_no\u001b[0m\u001b[0;34m,\u001b[0m\u001b[0mdate\u001b[0m\u001b[0;34m,\u001b[0m\u001b[0mrace_class\u001b[0m\u001b[0;34m,\u001b[0m\u001b[0mtrack\u001b[0m\u001b[0;34m,\u001b[0m\u001b[0mdistance\u001b[0m\u001b[0;34m=\u001b[0m\u001b[0mget_race_info\u001b[0m\u001b[0;34m(\u001b[0m\u001b[0;34m)\u001b[0m\u001b[0;34m\u001b[0m\u001b[0;34m\u001b[0m\u001b[0m\n\u001b[0m\u001b[1;32m     25\u001b[0m     dict_table={'season':[],'race':[],'horse_no':[],'horse':[],'jockey':[],'trainer':[],'class':[],'track':[],\\\n\u001b[1;32m     26\u001b[0m                 'location':[],'actual_weight':[],'draw':[],'distance_m':[],'win_odds':[],'date':[]}\n",
      "\u001b[0;32m<ipython-input-6-1cc1b9e0c54f>\u001b[0m in \u001b[0;36mget_race_info\u001b[0;34m()\u001b[0m\n\u001b[1;32m     18\u001b[0m     \u001b[0mcourse\u001b[0m\u001b[0;34m=\u001b[0m\u001b[0mrace_info\u001b[0m\u001b[0;34m[\u001b[0m\u001b[0;36m5\u001b[0m\u001b[0;34m]\u001b[0m\u001b[0;34m.\u001b[0m\u001b[0mstrip\u001b[0m\u001b[0;34m(\u001b[0m\u001b[0;34m)\u001b[0m\u001b[0;34m\u001b[0m\u001b[0;34m\u001b[0m\u001b[0m\n\u001b[1;32m     19\u001b[0m     \u001b[0mtrack\u001b[0m\u001b[0;34m=\u001b[0m\u001b[0mturf\u001b[0m\u001b[0;34m+\u001b[0m\u001b[0;34m' - '\u001b[0m\u001b[0;34m+\u001b[0m\u001b[0mcourse\u001b[0m\u001b[0;34m\u001b[0m\u001b[0;34m\u001b[0m\u001b[0m\n\u001b[0;32m---> 20\u001b[0;31m     \u001b[0mdistance\u001b[0m\u001b[0;34m=\u001b[0m\u001b[0mrace_info\u001b[0m\u001b[0;34m[\u001b[0m\u001b[0;36m6\u001b[0m\u001b[0;34m]\u001b[0m\u001b[0;34m.\u001b[0m\u001b[0mstrip\u001b[0m\u001b[0;34m(\u001b[0m\u001b[0;34m)\u001b[0m\u001b[0;34m[\u001b[0m\u001b[0;34m:\u001b[0m\u001b[0;34m-\u001b[0m\u001b[0;36m1\u001b[0m\u001b[0;34m]\u001b[0m\u001b[0;34m\u001b[0m\u001b[0;34m\u001b[0m\u001b[0m\n\u001b[0m\u001b[1;32m     21\u001b[0m     \u001b[0;32mreturn\u001b[0m \u001b[0mrace\u001b[0m\u001b[0;34m,\u001b[0m\u001b[0mdate\u001b[0m\u001b[0;34m,\u001b[0m\u001b[0mrace_class\u001b[0m\u001b[0;34m,\u001b[0m\u001b[0mtrack\u001b[0m\u001b[0;34m,\u001b[0m\u001b[0mdistance\u001b[0m\u001b[0;34m\u001b[0m\u001b[0;34m\u001b[0m\u001b[0m\n\u001b[1;32m     22\u001b[0m \u001b[0;34m\u001b[0m\u001b[0m\n",
      "\u001b[0;31mIndexError\u001b[0m: list index out of range"
     ]
    }
   ],
   "source": [
    "for i in range(get_no_of_race()):\n",
    "    # get soup for each race\n",
    "    URL_coming_race = 'https://bet.hkjc.com/racing/pages/odds_wp.aspx?lang=en&date='+coming_race_day+'&raceno='+str(i+1)\n",
    "    \n",
    "    driver.get(URL_coming_race)\n",
    "    time.sleep(5)\n",
    "    subhtml = driver.page_source\n",
    "    soup = BeautifulSoup(subhtml, 'html.parser')\n",
    "    \n",
    "    #get horse inforamtion for each race\n",
    "    table = soup.find_all(id='horseTable')[0].tbody.find_all('td')[:-6]\n",
    "    df_race=pd.concat([df_race,write_table()])\n",
    "df_race"
   ]
  },
  {
   "cell_type": "code",
   "execution_count": null,
   "metadata": {},
   "outputs": [],
   "source": [
    "df_race"
   ]
  },
  {
   "cell_type": "code",
   "execution_count": null,
   "metadata": {
    "scrolled": true
   },
   "outputs": [],
   "source": [
    "df_race.to_csv('../data/coming_race.csv',index=False)"
   ]
  }
 ],
 "metadata": {
  "kernelspec": {
   "display_name": "Python 3",
   "language": "python",
   "name": "python3"
  },
  "language_info": {
   "codemirror_mode": {
    "name": "ipython",
    "version": 3
   },
   "file_extension": ".py",
   "mimetype": "text/x-python",
   "name": "python",
   "nbconvert_exporter": "python",
   "pygments_lexer": "ipython3",
   "version": "3.8.3"
  }
 },
 "nbformat": 4,
 "nbformat_minor": 4
}
