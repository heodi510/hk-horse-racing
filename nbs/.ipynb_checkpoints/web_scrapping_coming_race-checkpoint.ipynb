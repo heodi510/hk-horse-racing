{
 "cells": [
  {
   "cell_type": "code",
   "execution_count": 1,
   "metadata": {},
   "outputs": [],
   "source": [
    "#Import relevant modules\n",
    "import time\n",
    "import re\n",
    "import pandas as pd\n",
    "import requests\n",
    "from bs4 import BeautifulSoup\n",
    "from selenium import webdriver\n",
    "from selenium.webdriver.common.keys import Keys\n",
    "from selenium.webdriver.support.ui import WebDriverWait\n",
    "from selenium.webdriver.common.by import By"
   ]
  },
  {
   "cell_type": "code",
   "execution_count": 2,
   "metadata": {},
   "outputs": [],
   "source": [
    "driver = webdriver.Chrome('/Users/Hei/Applications/chromedriver')"
   ]
  },
  {
   "cell_type": "code",
   "execution_count": 3,
   "metadata": {},
   "outputs": [
    {
     "data": {
      "text/plain": [
       "'https://bet.hkjc.com/racing/pages/odds_wp.aspx?lang=en&raceno=2'"
      ]
     },
     "execution_count": 3,
     "metadata": {},
     "output_type": "execute_result"
    }
   ],
   "source": [
    "suffix_raceno='2' #hardcode for test, default =1\n",
    "URL_coming_race = 'https://bet.hkjc.com/racing/pages/odds_wp.aspx?lang=en&raceno='+suffix_raceno\n",
    "URL_coming_race"
   ]
  },
  {
   "cell_type": "code",
   "execution_count": 32,
   "metadata": {},
   "outputs": [],
   "source": [
    "# Initialize soup for getting number of race\n",
    "driver.get(URL_coming_race)\n",
    "time.sleep(2)\n",
    "subhtml = driver.page_source\n",
    "soup = BeautifulSoup(subhtml, 'html.parser')\n",
    "\n",
    "# Initialize dataframe\n",
    "df_race = pd.DataFrame(columns=['race','horse','draw','actual_weight','jockey','trainer','win_odds'])\n",
    "\n",
    "# Get location\n",
    "location=soup.find('div',{'class':'mtgInfoDV'}).text.split(',')[2].strip()"
   ]
  },
  {
   "cell_type": "code",
   "execution_count": null,
   "metadata": {},
   "outputs": [],
   "source": [
    "def get_no_of_race():\n",
    "    racebg = soup.find(class_=\"racebg\").contents\n",
    "    count_race=0\n",
    "    for i in range(len(racebg)):\n",
    "        if racebg[i] !='\\n' and len(racebg[i].attrs)==4 and 'id' in racebg[i].attrs.keys():\n",
    "            count_race+=1\n",
    "    return count_race\n",
    "\n",
    "def write_table():\n",
    "    dict_table={'race':[],'horse':[],'draw':[],'actual_weight':[],'jockey':[],'trainer':[],'win_odds':[]}\n",
    "    table = soup.find_all(id='horseTable')[0].tbody.find_all('td')[:-6]\n",
    "    for i in range(len(table)):\n",
    "        if i %10==0:\n",
    "            dict_table['race'].append(table[i].text)\n",
    "        elif i%10==2:\n",
    "            dict_table['horse'].append(table[i].text)\n",
    "        elif i%10==3:\n",
    "            dict_table['draw'].append(table[i].text)\n",
    "        elif i%10==4:\n",
    "            dict_table['actual_weight'].append(table[i].text)\n",
    "        elif i%10==5:\n",
    "            dict_table['jockey'].append(table[i].text)\n",
    "        elif i%10==6:\n",
    "            dict_table['trainer'].append(table[i].text)\n",
    "        elif i%10==7:\n",
    "            dict_table['win_odds'].append(table[i].text)\n",
    "    df=pd.DataFrame(dict_table)\n",
    "    return df"
   ]
  },
  {
   "cell_type": "code",
   "execution_count": 18,
   "metadata": {},
   "outputs": [
    {
     "data": {
      "text/plain": [
       "['GOLD MOUNT HANDICAP',\n",
       " ' 28/10/2020',\n",
       " ' 19:15',\n",
       " ' Class 5',\n",
       " ' TURF',\n",
       " ' \"C+3\" Course',\n",
       " ' 1800m']"
      ]
     },
     "execution_count": 18,
     "metadata": {},
     "output_type": "execute_result"
    }
   ],
   "source": [
    "race_info=soup.find('span',{'class':'content'}).text.split(',')\n",
    "date=race_info[1]\n",
    "race_class=race_info[3]\n",
    "turf=race_info[4]\n",
    "course=race_info[5]\n",
    "distance=race_info[6]"
   ]
  },
  {
   "cell_type": "code",
   "execution_count": null,
   "metadata": {},
   "outputs": [],
   "source": [
    "for i in range(get_no_of_race()):\n",
    "    #get soup for each race\n",
    "    URL_coming_race = 'https://bet.hkjc.com/racing/pages/odds_wp.aspx?lang=en&raceno='+str(i+1)\n",
    "    driver.get(URL_coming_race)\n",
    "    time.sleep(5)\n",
    "    subhtml = driver.page_source\n",
    "    soup = BeautifulSoup(subhtml, 'html.parser')\n",
    "    \n",
    "    #get horse inforamtion for each race\n",
    "    table = soup.find_all(id='horseTable')[0].tbody.find_all('td')[:-6]\n",
    "    df_race=pd.concat([df_race,write_table()])\n",
    "df_race"
   ]
  },
  {
   "cell_type": "code",
   "execution_count": null,
   "metadata": {},
   "outputs": [],
   "source": [
    "df_race.to_csv('../data/coming_race.csv',index=False)"
   ]
  },
  {
   "cell_type": "code",
   "execution_count": null,
   "metadata": {},
   "outputs": [],
   "source": [
    "user_input={'season':'2020/2021','horse':horse.upper(),'jockey':jockey,'trainer':trainer,'class':horse_class,'track':track,'location':location,\\\n",
    "                'actual_weight':actual_weight,'distance':distance,'draw':draw,'prize':prize,'next_race_day':next_race_day}"
   ]
  },
  {
   "cell_type": "code",
   "execution_count": null,
   "metadata": {},
   "outputs": [],
   "source": [
    "cat_vars=['season','last_place','horse','jockey','trainer','class','track','location']\n",
    "cont_vars=['actual_weight','last_actual_weight','draw','last_lbw','last_running_position',\\\n",
    "           'prize','distance_m','rest_day','pct_1st_last_j','pct_2nd_last_j','pct_3rd_last_j',\\\n",
    "           'pct_4th_last_j','pct_1st_last_t','pct_2nd_last_t','pct_3rd_last_t','pct_4th_last_t']\n",
    "batch_pred_cols=cat_vars + cont_vars + ['race','date']"
   ]
  }
 ],
 "metadata": {
  "kernelspec": {
   "display_name": "Python 3",
   "language": "python",
   "name": "python3"
  },
  "language_info": {
   "codemirror_mode": {
    "name": "ipython",
    "version": 3
   },
   "file_extension": ".py",
   "mimetype": "text/x-python",
   "name": "python",
   "nbconvert_exporter": "python",
   "pygments_lexer": "ipython3",
   "version": "3.8.3"
  }
 },
 "nbformat": 4,
 "nbformat_minor": 4
}
