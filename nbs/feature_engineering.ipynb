{
 "cells": [
  {
   "cell_type": "code",
   "execution_count": null,
   "metadata": {},
   "outputs": [],
   "source": [
    "import pandas as pd\n",
    "import numpy as np\n",
    "import re\n",
    "%matplotlib inline\n",
    "from matplotlib import pyplot as plt\n",
    "import seaborn as sns"
   ]
  },
  {
   "cell_type": "code",
   "execution_count": null,
   "metadata": {},
   "outputs": [],
   "source": [
    "types_dict = {'race_id': int, 'race': int, 'date':str, 'place':int, 'horse_id':str, 'horse_no':str,\n",
    "              'horse':str, 'jockey':str, 'trainer':str, 'actual_weight':float, 'declared_horse_weight':float,\n",
    "              'draw':int, 'lbw':float, 'running_position': str,'win_odds':float, 'class':str, 'going':str,\n",
    "              'track':str, 'prize':int, 'location':str, 'distance_m':int, 'finish_time':str, 'finish_time_s':float}\n",
    "parse_dates = ['date', 'finish_time']\n",
    "\n",
    "raw=pd.read_csv('../data/race_2016_to_2020.csv',dtype=types_dict,parse_dates=parse_dates)"
   ]
  },
  {
   "cell_type": "code",
   "execution_count": null,
   "metadata": {},
   "outputs": [],
   "source": [
    "raw"
   ]
  },
  {
   "cell_type": "code",
   "execution_count": null,
   "metadata": {},
   "outputs": [],
   "source": [
    "raw.columns"
   ]
  },
  {
   "cell_type": "code",
   "execution_count": null,
   "metadata": {},
   "outputs": [],
   "source": [
    "raw.info()"
   ]
  },
  {
   "cell_type": "code",
   "execution_count": null,
   "metadata": {},
   "outputs": [],
   "source": [
    "def tran_running_position_to_list(r_pos):\n",
    "    r_pos = r_pos.strip(\"[]\")\n",
    "    str_list = re.findall('(\\d+)',r_pos)\n",
    "    result = [int(s) for s in str_list]\n",
    "    return result\n",
    "\n",
    "def get_season(race_date):\n",
    "    if race_date.month<9:\n",
    "        season=str(race_date.year-1)+'/'+str(race_date.year)\n",
    "    else:\n",
    "        season=str(race_date.year)+'/'+str(race_date.year+1)\n",
    "    return season"
   ]
  },
  {
   "cell_type": "code",
   "execution_count": null,
   "metadata": {},
   "outputs": [],
   "source": [
    "#further data cleaning\n",
    "df=raw.copy()\n",
    "\n",
    "# rest day = day difference between current race and last race,fillna with 45 days for summer holidays\n",
    "df['rest_day']=df.groupby('horse_id')['date'].diff().apply(lambda x: x.days).fillna(45) \n",
    "\n",
    "# generate last running position of horse and drop running position, as running position leak current result\n",
    "df['running_position'] = df['running_position'].apply(tran_running_position_to_list)\n",
    "df['last_running_position'] = df.groupby(['horse_id'])['running_position'].transform(lambda x:x.shift()).apply(lambda x: x if isinstance(x,list) else [0])\n",
    "df.drop('running_position',inplace=True,axis=1)\n",
    "\n",
    "# generate last place \n",
    "df['last_place'] = df.groupby(['horse_id'])['place'].transform(lambda x:x.shift()).apply(lambda x: 0. if np.isnan(x) else x)\n",
    "# df.drop('place',inplace=True,axis=1)\n",
    "\n",
    "# get season for each record\n",
    "df['season'] = df['date'].apply(get_season)\n",
    "#drop unwanted columns\n",
    "df.drop('finish_time',inplace=True,axis=1) #replaced by finish_time_s\n",
    "df.columns"
   ]
  },
  {
   "cell_type": "code",
   "execution_count": null,
   "metadata": {},
   "outputs": [],
   "source": [
    "df=df[['season', 'race_id', 'race', 'date', 'place', 'last_place', 'horse_id', 'horse_no', 'horse',\n",
    "       'jockey', 'trainer', 'actual_weight', 'declared_horse_weight', 'draw',\n",
    "       'lbw', 'last_running_position', 'win_odds', 'class', 'going', 'track',\n",
    "       'prize', 'location', 'distance_m', 'finish_time_s', 'rest_day']]\n",
    "df"
   ]
  },
  {
   "cell_type": "code",
   "execution_count": null,
   "metadata": {},
   "outputs": [],
   "source": [
    "# generate jockey df with win rate of last season\n",
    "# get name for all jockeys in data set, order by asc\n",
    "df_jockey=pd.DataFrame({'jockey':df['jockey'].sort_values().unique()})\n",
    "# get no. of 1st,2nd,3rd,4th place in last season\n",
    "def cal_pct_1st(x):\n",
    "    return (x==1).sum()/len(x)*100\n",
    "def cal_pct_2nd(x):\n",
    "    return (x==2).sum()/len(x)*100\n",
    "def cal_pct_3rd(x):\n",
    "    return (x==3).sum()/len(x)*100\n",
    "def cal_pct_4th(x):\n",
    "    return (x==4).sum()/len(x)*100\n",
    "\n",
    "#create dataframe containing percentage of 1st,2nd,3rd,4th place of last season\n",
    "df_1st_rate=df.groupby(['season','jockey'],as_index=False)['place'].agg(cal_pct_1st).round(decimals=2)\n",
    "df_2nd_rate=df.groupby(['season','jockey'],as_index=False)['place'].agg(cal_pct_2nd).round(decimals=2)\n",
    "df_3rd_rate=df.groupby(['season','jockey'],as_index=False)['place'].agg(cal_pct_3rd).round(decimals=2)\n",
    "df_4th_rate=df.groupby(['season','jockey'],as_index=False)['place'].agg(cal_pct_4th).round(decimals=2)\n",
    "df_1st_rate.columns=['season','jockey','pct_1st']\n",
    "df_2nd_rate.columns=['season','jockey','pct_2nd']\n",
    "df_3rd_rate.columns=['season','jockey','pct_3rd']\n",
    "df_4th_rate.columns=['season','jockey','pct_4th']\n",
    "\n",
    "#join pct information to df_jockey dataframe\n",
    "df_jockey = pd.merge(df_jockey,df_1st_rate,on='jockey')\n",
    "df_jockey = pd.merge(df_jockey,df_2nd_rate,on=['jockey','season'])\n",
    "df_jockey = pd.merge(df_jockey,df_3rd_rate,on=['jockey','season'])\n",
    "df_jockey = pd.merge(df_jockey,df_4th_rate,on=['jockey','season'])\n",
    "\n",
    "#get last season performance by shifting\n",
    "df_jockey['pct_1st_last'] = df_jockey.groupby(['jockey'],as_index=False)['pct_1st'].transform(lambda x:x.shift())\n",
    "df_jockey['pct_2nd_last'] = df_jockey.groupby(['jockey'],as_index=False)['pct_2nd'].transform(lambda x:x.shift())\n",
    "df_jockey['pct_3rd_last'] = df_jockey.groupby(['jockey'],as_index=False)['pct_3rd'].transform(lambda x:x.shift())\n",
    "df_jockey['pct_4th_last'] = df_jockey.groupby(['jockey'],as_index=False)['pct_4th'].transform(lambda x:x.shift())\n",
    "\n",
    "#keep all pact columns of last season only\n",
    "df_jockey=df_jockey[['jockey','season','pct_1st_last','pct_2nd_last','pct_3rd_last','pct_4th_last']]\n",
    "\n",
    "#fill nan with 0 for the first season record\n",
    "df_jockey['pct_1st_last'] = df_jockey['pct_1st_last'].apply(lambda x: 0. if np.isnan(x) else x)\n",
    "df_jockey['pct_2nd_last'] = df_jockey['pct_1st_last'].apply(lambda x: 0. if np.isnan(x) else x) \n",
    "df_jockey['pct_3rd_last'] = df_jockey['pct_1st_last'].apply(lambda x: 0. if np.isnan(x) else x) \n",
    "df_jockey['pct_4th_last'] = df_jockey['pct_1st_last'].apply(lambda x: 0. if np.isnan(x) else x)\n",
    "\n",
    "df_jockey"
   ]
  },
  {
   "cell_type": "code",
   "execution_count": null,
   "metadata": {},
   "outputs": [],
   "source": [
    "df_trainer=pd.DataFrame({'trainer':df['trainer'].sort_values().unique()})\n",
    "# get no. of 1st,2nd,3rd,4th place in last season\n",
    "def cal_pct_1st(x):\n",
    "    return (x==1).sum()/len(x)*100\n",
    "def cal_pct_2nd(x):\n",
    "    return (x==2).sum()/len(x)*100\n",
    "def cal_pct_3rd(x):\n",
    "    return (x==3).sum()/len(x)*100\n",
    "def cal_pct_4th(x):\n",
    "    return (x==4).sum()/len(x)*100\n",
    "\n",
    "#create dataframe containing percentage of 1st,2nd,3rd,4th place of last season\n",
    "df_1st_rate=df.groupby(['season','trainer'],as_index=False)['place'].agg(cal_pct_1st).round(decimals=2)\n",
    "df_2nd_rate=df.groupby(['season','trainer'],as_index=False)['place'].agg(cal_pct_2nd).round(decimals=2)\n",
    "df_3rd_rate=df.groupby(['season','trainer'],as_index=False)['place'].agg(cal_pct_3rd).round(decimals=2)\n",
    "df_4th_rate=df.groupby(['season','trainer'],as_index=False)['place'].agg(cal_pct_4th).round(decimals=2)\n",
    "df_1st_rate.columns=['season','trainer','pct_1st']\n",
    "df_2nd_rate.columns=['season','trainer','pct_2nd']\n",
    "df_3rd_rate.columns=['season','trainer','pct_3rd']\n",
    "df_4th_rate.columns=['season','trainer','pct_4th']\n",
    "\n",
    "#join pct information to df_jockey dataframe\n",
    "df_trainer = pd.merge(df_trainer,df_1st_rate,on='trainer')\n",
    "df_trainer = pd.merge(df_trainer,df_2nd_rate,on=['trainer','season'])\n",
    "df_trainer = pd.merge(df_trainer,df_3rd_rate,on=['trainer','season'])\n",
    "df_trainer = pd.merge(df_trainer,df_4th_rate,on=['trainer','season'])\n",
    "\n",
    "#get last season performance by shifting\n",
    "df_trainer['pct_1st_last'] = df_trainer.groupby(['trainer'],as_index=False)['pct_1st'].transform(lambda x:x.shift())\n",
    "df_trainer['pct_2nd_last'] = df_trainer.groupby(['trainer'],as_index=False)['pct_2nd'].transform(lambda x:x.shift())\n",
    "df_trainer['pct_3rd_last'] = df_trainer.groupby(['trainer'],as_index=False)['pct_3rd'].transform(lambda x:x.shift())\n",
    "df_trainer['pct_4th_last'] = df_trainer.groupby(['trainer'],as_index=False)['pct_4th'].transform(lambda x:x.shift())\n",
    "\n",
    "#keep all pact columns of last season only\n",
    "df_trainer=df_trainer[['trainer','season','pct_1st_last','pct_2nd_last','pct_3rd_last','pct_4th_last']]\n",
    "\n",
    "#fill nan with 0 for the first season record\n",
    "df_trainer['pct_1st_last'] = df_trainer['pct_1st_last'].apply(lambda x: 0. if np.isnan(x) else x)\n",
    "df_trainer['pct_2nd_last'] = df_trainer['pct_1st_last'].apply(lambda x: 0. if np.isnan(x) else x) \n",
    "df_trainer['pct_3rd_last'] = df_trainer['pct_1st_last'].apply(lambda x: 0. if np.isnan(x) else x) \n",
    "df_trainer['pct_4th_last'] = df_trainer['pct_1st_last'].apply(lambda x: 0. if np.isnan(x) else x)\n",
    "\n",
    "df_trainer"
   ]
  },
  {
   "cell_type": "code",
   "execution_count": null,
   "metadata": {},
   "outputs": [],
   "source": []
  }
 ],
 "metadata": {
  "kernelspec": {
   "display_name": "Python 3",
   "language": "python",
   "name": "python3"
  },
  "language_info": {
   "codemirror_mode": {
    "name": "ipython",
    "version": 3
   },
   "file_extension": ".py",
   "mimetype": "text/x-python",
   "name": "python",
   "nbconvert_exporter": "python",
   "pygments_lexer": "ipython3",
   "version": "3.8.3"
  }
 },
 "nbformat": 4,
 "nbformat_minor": 4
}
