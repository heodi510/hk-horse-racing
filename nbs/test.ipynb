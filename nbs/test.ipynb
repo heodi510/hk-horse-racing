{
 "cells": [
  {
   "cell_type": "code",
   "execution_count": 1,
   "metadata": {},
   "outputs": [],
   "source": [
    "import pandas as pd\n",
    "import numpy as np\n",
    "from datetime import date"
   ]
  },
  {
   "cell_type": "code",
   "execution_count": 10,
   "metadata": {},
   "outputs": [
    {
     "data": {
      "text/plain": [
       "Index(['race_id', 'race', 'date', 'place', 'horse_id', 'horse_no', 'horse',\n",
       "       'jockey', 'trainer', 'actual_weight', 'declared_horse_weight', 'draw',\n",
       "       'lbw', 'running_position', 'win_odds', 'class', 'going', 'track',\n",
       "       'prize', 'location', 'distance_m', 'finish_time', 'finish_time_s'],\n",
       "      dtype='object')"
      ]
     },
     "execution_count": 10,
     "metadata": {},
     "output_type": "execute_result"
    }
   ],
   "source": [
    "df=pd.read_csv('../data/race_eda.csv')\n",
    "df.columns"
   ]
  },
  {
   "cell_type": "code",
   "execution_count": 11,
   "metadata": {},
   "outputs": [
    {
     "data": {
      "text/plain": [
       "Class 4                        26537\n",
       "Class 3                        22565\n",
       "Class 5                         9672\n",
       "Class 2                         6566\n",
       "Class 1                         1070\n",
       "Group One                        769\n",
       "Group Three                      454\n",
       "Hong Kong Group Three            410\n",
       "Group Two                        374\n",
       "Griffin Race                     310\n",
       "Class 4 (Restricted)             254\n",
       "Hong Kong Group One              204\n",
       "Class 4 (Special Condition)      164\n",
       "Hong Kong Group Two              125\n",
       "4 Year Olds                      112\n",
       "Restricted Race                  106\n",
       "Class 3 (Special Condition)       36\n",
       "Name: class, dtype: int64"
      ]
     },
     "execution_count": 11,
     "metadata": {},
     "output_type": "execute_result"
    }
   ],
   "source": [
    "df['class'].value_counts()"
   ]
  },
  {
   "cell_type": "code",
   "execution_count": 12,
   "metadata": {},
   "outputs": [
    {
     "data": {
      "text/plain": [
       "TURF - \"A\" Course      16166\n",
       "TURF - \"C\" Course      13108\n",
       "TURF - \"C+3\" Course    11842\n",
       "TURF - \"B\" Course       9776\n",
       "ALL WEATHER TRACK       8351\n",
       "TURF - \"A+3\" Course     5280\n",
       "TURF - \"B+2\" Course     5205\n",
       "Name: track, dtype: int64"
      ]
     },
     "execution_count": 12,
     "metadata": {},
     "output_type": "execute_result"
    }
   ],
   "source": [
    "df['track'].value_counts()"
   ]
  },
  {
   "cell_type": "code",
   "execution_count": 13,
   "metadata": {},
   "outputs": [
    {
     "data": {
      "text/plain": [
       "Sha Tin         45463\n",
       "Happy Valley    24265\n",
       "Name: location, dtype: int64"
      ]
     },
     "execution_count": 13,
     "metadata": {},
     "output_type": "execute_result"
    }
   ],
   "source": [
    "df['location'].value_counts()"
   ]
  },
  {
   "cell_type": "code",
   "execution_count": 14,
   "metadata": {},
   "outputs": [
    {
     "data": {
      "text/html": [
       "<div>\n",
       "<style scoped>\n",
       "    .dataframe tbody tr th:only-of-type {\n",
       "        vertical-align: middle;\n",
       "    }\n",
       "\n",
       "    .dataframe tbody tr th {\n",
       "        vertical-align: top;\n",
       "    }\n",
       "\n",
       "    .dataframe thead th {\n",
       "        text-align: right;\n",
       "    }\n",
       "</style>\n",
       "<table border=\"1\" class=\"dataframe\">\n",
       "  <thead>\n",
       "    <tr style=\"text-align: right;\">\n",
       "      <th></th>\n",
       "      <th>Unnamed: 0</th>\n",
       "      <th>trainer</th>\n",
       "      <th>season</th>\n",
       "      <th>pct_1st_last_t</th>\n",
       "      <th>pct_2nd_last_t</th>\n",
       "      <th>pct_3rd_last_t</th>\n",
       "      <th>pct_4th_last_t</th>\n",
       "    </tr>\n",
       "  </thead>\n",
       "  <tbody>\n",
       "    <tr>\n",
       "      <th>0</th>\n",
       "      <td>0</td>\n",
       "      <td>A Bull</td>\n",
       "      <td>2016/2017</td>\n",
       "      <td>0.0</td>\n",
       "      <td>0.0</td>\n",
       "      <td>0.0</td>\n",
       "      <td>0.0</td>\n",
       "    </tr>\n",
       "    <tr>\n",
       "      <th>1</th>\n",
       "      <td>1</td>\n",
       "      <td>A Couetil</td>\n",
       "      <td>2017/2018</td>\n",
       "      <td>0.0</td>\n",
       "      <td>0.0</td>\n",
       "      <td>0.0</td>\n",
       "      <td>0.0</td>\n",
       "    </tr>\n",
       "    <tr>\n",
       "      <th>2</th>\n",
       "      <td>2</td>\n",
       "      <td>A Fabre</td>\n",
       "      <td>2014/2015</td>\n",
       "      <td>0.0</td>\n",
       "      <td>0.0</td>\n",
       "      <td>0.0</td>\n",
       "      <td>0.0</td>\n",
       "    </tr>\n",
       "    <tr>\n",
       "      <th>3</th>\n",
       "      <td>3</td>\n",
       "      <td>A Fabre</td>\n",
       "      <td>2015/2016</td>\n",
       "      <td>100.0</td>\n",
       "      <td>0.0</td>\n",
       "      <td>0.0</td>\n",
       "      <td>0.0</td>\n",
       "    </tr>\n",
       "    <tr>\n",
       "      <th>4</th>\n",
       "      <td>4</td>\n",
       "      <td>A Fabre</td>\n",
       "      <td>2016/2017</td>\n",
       "      <td>0.0</td>\n",
       "      <td>50.0</td>\n",
       "      <td>0.0</td>\n",
       "      <td>50.0</td>\n",
       "    </tr>\n",
       "    <tr>\n",
       "      <th>...</th>\n",
       "      <td>...</td>\n",
       "      <td>...</td>\n",
       "      <td>...</td>\n",
       "      <td>...</td>\n",
       "      <td>...</td>\n",
       "      <td>...</td>\n",
       "      <td>...</td>\n",
       "    </tr>\n",
       "    <tr>\n",
       "      <th>382</th>\n",
       "      <td>382</td>\n",
       "      <td>Y Yahagi</td>\n",
       "      <td>2018/2019</td>\n",
       "      <td>0.0</td>\n",
       "      <td>0.0</td>\n",
       "      <td>100.0</td>\n",
       "      <td>0.0</td>\n",
       "    </tr>\n",
       "    <tr>\n",
       "      <th>383</th>\n",
       "      <td>383</td>\n",
       "      <td>de Royer Dupre</td>\n",
       "      <td>2013/2014</td>\n",
       "      <td>0.0</td>\n",
       "      <td>0.0</td>\n",
       "      <td>0.0</td>\n",
       "      <td>0.0</td>\n",
       "    </tr>\n",
       "    <tr>\n",
       "      <th>384</th>\n",
       "      <td>384</td>\n",
       "      <td>de Royer Dupre</td>\n",
       "      <td>2015/2016</td>\n",
       "      <td>0.0</td>\n",
       "      <td>0.0</td>\n",
       "      <td>0.0</td>\n",
       "      <td>0.0</td>\n",
       "    </tr>\n",
       "    <tr>\n",
       "      <th>385</th>\n",
       "      <td>385</td>\n",
       "      <td>de Royer Dupre</td>\n",
       "      <td>2016/2017</td>\n",
       "      <td>0.0</td>\n",
       "      <td>0.0</td>\n",
       "      <td>100.0</td>\n",
       "      <td>0.0</td>\n",
       "    </tr>\n",
       "    <tr>\n",
       "      <th>386</th>\n",
       "      <td>386</td>\n",
       "      <td>de Royer Dupre</td>\n",
       "      <td>2019/2020</td>\n",
       "      <td>0.0</td>\n",
       "      <td>0.0</td>\n",
       "      <td>100.0</td>\n",
       "      <td>0.0</td>\n",
       "    </tr>\n",
       "  </tbody>\n",
       "</table>\n",
       "<p>387 rows × 7 columns</p>\n",
       "</div>"
      ],
      "text/plain": [
       "     Unnamed: 0         trainer     season  pct_1st_last_t  pct_2nd_last_t  \\\n",
       "0             0          A Bull  2016/2017             0.0             0.0   \n",
       "1             1       A Couetil  2017/2018             0.0             0.0   \n",
       "2             2         A Fabre  2014/2015             0.0             0.0   \n",
       "3             3         A Fabre  2015/2016           100.0             0.0   \n",
       "4             4         A Fabre  2016/2017             0.0            50.0   \n",
       "..          ...             ...        ...             ...             ...   \n",
       "382         382        Y Yahagi  2018/2019             0.0             0.0   \n",
       "383         383  de Royer Dupre  2013/2014             0.0             0.0   \n",
       "384         384  de Royer Dupre  2015/2016             0.0             0.0   \n",
       "385         385  de Royer Dupre  2016/2017             0.0             0.0   \n",
       "386         386  de Royer Dupre  2019/2020             0.0             0.0   \n",
       "\n",
       "     pct_3rd_last_t  pct_4th_last_t  \n",
       "0               0.0             0.0  \n",
       "1               0.0             0.0  \n",
       "2               0.0             0.0  \n",
       "3               0.0             0.0  \n",
       "4               0.0            50.0  \n",
       "..              ...             ...  \n",
       "382           100.0             0.0  \n",
       "383             0.0             0.0  \n",
       "384             0.0             0.0  \n",
       "385           100.0             0.0  \n",
       "386           100.0             0.0  \n",
       "\n",
       "[387 rows x 7 columns]"
      ]
     },
     "execution_count": 14,
     "metadata": {},
     "output_type": "execute_result"
    }
   ],
   "source": [
    "df_trainer =pd.read_csv('../data/trainer.csv')\n",
    "df_trainer"
   ]
  },
  {
   "cell_type": "code",
   "execution_count": 32,
   "metadata": {},
   "outputs": [
    {
     "data": {
      "text/plain": [
       "69368"
      ]
     },
     "execution_count": 32,
     "metadata": {},
     "output_type": "execute_result"
    }
   ],
   "source": [
    "df_test = pd.read_csv('../data/test/test.csv', index_col=[0], parse_dates=['date'])\n",
    "idx_last_run = df_test[df_test['horse']=='SKY SHOW']['date'].idxmax()\n",
    "idx_last_run"
   ]
  },
  {
   "cell_type": "code",
   "execution_count": 34,
   "metadata": {},
   "outputs": [
    {
     "data": {
      "text/plain": [
       "season                                  2020/2021\n",
       "race_id                                        61\n",
       "race                                            7\n",
       "date                          2020-09-27 00:00:00\n",
       "place                                          10\n",
       "last_place                                      3\n",
       "horse_id                                     D099\n",
       "horse_no                                        9\n",
       "horse                                    SKY SHOW\n",
       "jockey                                  J Moreira\n",
       "trainer                                  K H Ting\n",
       "actual_weight                                 119\n",
       "declared_horse_weight                        1203\n",
       "last_declared_horse_weight                   1210\n",
       "draw                                            7\n",
       "last_lbw                                     0.33\n",
       "last_running_position                     2.33333\n",
       "win_odds                                      3.4\n",
       "class                                     Class 3\n",
       "going                                        GOOD\n",
       "track                           ALL WEATHER TRACK\n",
       "prize                                     1500000\n",
       "location                                  Sha Tin\n",
       "distance_m                                   1200\n",
       "rest_day                                       84\n",
       "finish_time_s                                72.4\n",
       "pct_1st_last_j                              19.22\n",
       "pct_2nd_last_j                              17.13\n",
       "pct_3rd_last_j                              12.67\n",
       "pct_4th_last_j                               9.47\n",
       "pct_1st_last_t                                8.5\n",
       "pct_2nd_last_t                               4.85\n",
       "pct_3rd_last_t                               6.07\n",
       "pct_4th_last_t                               8.74\n",
       "Name: 69368, dtype: object"
      ]
     },
     "execution_count": 34,
     "metadata": {},
     "output_type": "execute_result"
    }
   ],
   "source": [
    "df_test.loc[idx_last_run,:]"
   ]
  },
  {
   "cell_type": "code",
   "execution_count": 3,
   "metadata": {},
   "outputs": [
    {
     "data": {
      "text/plain": [
       "Timestamp('2020-10-24 00:00:00')"
      ]
     },
     "execution_count": 3,
     "metadata": {},
     "output_type": "execute_result"
    }
   ],
   "source": [
    "df=pd.read_csv('../data/schedule/schedule_s2021.csv',dtype={'year':str,'mon':str,'day':str})\n",
    "df.columns = ['year','month','day']\n",
    "df['next_race_day']=pd.to_datetime(df)\n",
    "min_idx=df[df['next_race_day']>pd.Timestamp('today')]['next_race_day'].idxmin()\n",
    "next_race_day=df.loc[min_idx,'next_race_day']\n",
    "next_race_day"
   ]
  },
  {
   "cell_type": "code",
   "execution_count": 6,
   "metadata": {},
   "outputs": [
    {
     "data": {
      "text/plain": [
       "datetime.date(2020, 10, 24)"
      ]
     },
     "execution_count": 6,
     "metadata": {},
     "output_type": "execute_result"
    }
   ],
   "source": [
    "next_race_day.date()"
   ]
  },
  {
   "cell_type": "code",
   "execution_count": null,
   "metadata": {},
   "outputs": [],
   "source": []
  }
 ],
 "metadata": {
  "kernelspec": {
   "display_name": "Python 3",
   "language": "python",
   "name": "python3"
  },
  "language_info": {
   "codemirror_mode": {
    "name": "ipython",
    "version": 3
   },
   "file_extension": ".py",
   "mimetype": "text/x-python",
   "name": "python",
   "nbconvert_exporter": "python",
   "pygments_lexer": "ipython3",
   "version": "3.8.3"
  }
 },
 "nbformat": 4,
 "nbformat_minor": 4
}
