{
 "cells": [
  {
   "cell_type": "code",
   "execution_count": 1,
   "metadata": {},
   "outputs": [],
   "source": [
    "%reload_ext autoreload\n",
    "%autoreload 2"
   ]
  },
  {
   "cell_type": "code",
   "execution_count": 2,
   "metadata": {},
   "outputs": [],
   "source": [
    "from fastai.tabular import *"
   ]
  },
  {
   "cell_type": "markdown",
   "metadata": {},
   "source": [
    "### Train tabular model"
   ]
  },
  {
   "cell_type": "code",
   "execution_count": 3,
   "metadata": {},
   "outputs": [],
   "source": [
    "path=Path.home()/'tutorials/hk-horse-racing/data'\n",
    "# get training set and test set from csv file\n",
    "train_df=pd.read_csv(path/'train/train.csv',index_col=0,parse_dates=['date'])\n",
    "test_df = pd.read_csv(path/'test/test.csv',index_col=0,parse_dates=['date'])\n",
    "# sort test set order by date, race id, and horse number\n",
    "# this is normal order of official race info\n",
    "test_df.sort_values(['date','race_id','horse_no'],inplace=True)\n",
    "df_pred=test_df.copy()"
   ]
  },
  {
   "cell_type": "code",
   "execution_count": 4,
   "metadata": {},
   "outputs": [
    {
     "data": {
      "text/plain": [
       "((58432, 34), (11296, 33))"
      ]
     },
     "execution_count": 4,
     "metadata": {},
     "output_type": "execute_result"
    }
   ],
   "source": [
    "target_test = test_df['finish_time_s']\n",
    "test_df.drop(columns='finish_time_s',inplace=True)\n",
    "train_df.shape,test_df.shape"
   ]
  },
  {
   "cell_type": "code",
   "execution_count": 5,
   "metadata": {},
   "outputs": [],
   "source": [
    "procs=[FillMissing, Categorify, Normalize]"
   ]
  },
  {
   "cell_type": "code",
   "execution_count": 6,
   "metadata": {
    "scrolled": true
   },
   "outputs": [
    {
     "data": {
      "text/plain": [
       "Index(['season', 'race_id', 'race', 'date', 'place', 'last_place', 'horse_id',\n",
       "       'horse_no', 'horse', 'jockey', 'trainer', 'actual_weight',\n",
       "       'last_actual_weight', 'declared_horse_weight', 'draw', 'last_lbw',\n",
       "       'last_running_position', 'win_odds', 'class', 'going', 'track', 'prize',\n",
       "       'location', 'distance_m', 'rest_day', 'finish_time_s', 'pct_1st_last_j',\n",
       "       'pct_2nd_last_j', 'pct_3rd_last_j', 'pct_4th_last_j', 'pct_1st_last_t',\n",
       "       'pct_2nd_last_t', 'pct_3rd_last_t', 'pct_4th_last_t'],\n",
       "      dtype='object')"
      ]
     },
     "execution_count": 6,
     "metadata": {},
     "output_type": "execute_result"
    }
   ],
   "source": [
    "train_df.columns"
   ]
  },
  {
   "cell_type": "code",
   "execution_count": 7,
   "metadata": {
    "scrolled": true
   },
   "outputs": [
    {
     "data": {
      "text/html": [
       "<div>\n",
       "<style scoped>\n",
       "    .dataframe tbody tr th:only-of-type {\n",
       "        vertical-align: middle;\n",
       "    }\n",
       "\n",
       "    .dataframe tbody tr th {\n",
       "        vertical-align: top;\n",
       "    }\n",
       "\n",
       "    .dataframe thead th {\n",
       "        text-align: right;\n",
       "    }\n",
       "</style>\n",
       "<table border=\"1\" class=\"dataframe\">\n",
       "  <thead>\n",
       "    <tr style=\"text-align: right;\">\n",
       "      <th></th>\n",
       "      <th>0</th>\n",
       "      <th>1</th>\n",
       "      <th>2</th>\n",
       "      <th>3</th>\n",
       "      <th>4</th>\n",
       "    </tr>\n",
       "  </thead>\n",
       "  <tbody>\n",
       "    <tr>\n",
       "      <th>season</th>\n",
       "      <td>2013/2014</td>\n",
       "      <td>2013/2014</td>\n",
       "      <td>2013/2014</td>\n",
       "      <td>2013/2014</td>\n",
       "      <td>2013/2014</td>\n",
       "    </tr>\n",
       "    <tr>\n",
       "      <th>race_id</th>\n",
       "      <td>1</td>\n",
       "      <td>1</td>\n",
       "      <td>1</td>\n",
       "      <td>1</td>\n",
       "      <td>1</td>\n",
       "    </tr>\n",
       "    <tr>\n",
       "      <th>race</th>\n",
       "      <td>1</td>\n",
       "      <td>1</td>\n",
       "      <td>1</td>\n",
       "      <td>1</td>\n",
       "      <td>1</td>\n",
       "    </tr>\n",
       "    <tr>\n",
       "      <th>date</th>\n",
       "      <td>2013-09-08 00:00:00</td>\n",
       "      <td>2013-09-08 00:00:00</td>\n",
       "      <td>2013-09-08 00:00:00</td>\n",
       "      <td>2013-09-08 00:00:00</td>\n",
       "      <td>2013-09-08 00:00:00</td>\n",
       "    </tr>\n",
       "    <tr>\n",
       "      <th>place</th>\n",
       "      <td>1</td>\n",
       "      <td>2</td>\n",
       "      <td>3</td>\n",
       "      <td>4</td>\n",
       "      <td>5</td>\n",
       "    </tr>\n",
       "    <tr>\n",
       "      <th>last_place</th>\n",
       "      <td>0</td>\n",
       "      <td>0</td>\n",
       "      <td>0</td>\n",
       "      <td>0</td>\n",
       "      <td>0</td>\n",
       "    </tr>\n",
       "    <tr>\n",
       "      <th>horse_id</th>\n",
       "      <td>N432</td>\n",
       "      <td>K226</td>\n",
       "      <td>M410</td>\n",
       "      <td>P139</td>\n",
       "      <td>N156</td>\n",
       "    </tr>\n",
       "    <tr>\n",
       "      <th>horse_no</th>\n",
       "      <td>10</td>\n",
       "      <td>9</td>\n",
       "      <td>11</td>\n",
       "      <td>6</td>\n",
       "      <td>5</td>\n",
       "    </tr>\n",
       "    <tr>\n",
       "      <th>horse</th>\n",
       "      <td>AMAZING ALWAYS</td>\n",
       "      <td>FLYING SUPREME</td>\n",
       "      <td>COSMO ONE</td>\n",
       "      <td>SOUTHERN SPRINGS</td>\n",
       "      <td>BERNARD'S CHOICE</td>\n",
       "    </tr>\n",
       "    <tr>\n",
       "      <th>jockey</th>\n",
       "      <td>K Teetan</td>\n",
       "      <td>W M Lai</td>\n",
       "      <td>D Whyte</td>\n",
       "      <td>K C Leung</td>\n",
       "      <td>Z Purton</td>\n",
       "    </tr>\n",
       "    <tr>\n",
       "      <th>trainer</th>\n",
       "      <td>D E Ferraris</td>\n",
       "      <td>T K Ng</td>\n",
       "      <td>Y S Tsui</td>\n",
       "      <td>C S Shum</td>\n",
       "      <td>P O'Sullivan</td>\n",
       "    </tr>\n",
       "    <tr>\n",
       "      <th>actual_weight</th>\n",
       "      <td>125</td>\n",
       "      <td>127</td>\n",
       "      <td>123</td>\n",
       "      <td>126</td>\n",
       "      <td>128</td>\n",
       "    </tr>\n",
       "    <tr>\n",
       "      <th>last_actual_weight</th>\n",
       "      <td>0</td>\n",
       "      <td>0</td>\n",
       "      <td>0</td>\n",
       "      <td>0</td>\n",
       "      <td>0</td>\n",
       "    </tr>\n",
       "    <tr>\n",
       "      <th>declared_horse_weight</th>\n",
       "      <td>1126</td>\n",
       "      <td>1074</td>\n",
       "      <td>1030</td>\n",
       "      <td>1107</td>\n",
       "      <td>1044</td>\n",
       "    </tr>\n",
       "    <tr>\n",
       "      <th>draw</th>\n",
       "      <td>9</td>\n",
       "      <td>11</td>\n",
       "      <td>13</td>\n",
       "      <td>10</td>\n",
       "      <td>6</td>\n",
       "    </tr>\n",
       "    <tr>\n",
       "      <th>last_lbw</th>\n",
       "      <td>0</td>\n",
       "      <td>0</td>\n",
       "      <td>0</td>\n",
       "      <td>0</td>\n",
       "      <td>0</td>\n",
       "    </tr>\n",
       "    <tr>\n",
       "      <th>last_running_position</th>\n",
       "      <td>0</td>\n",
       "      <td>0</td>\n",
       "      <td>0</td>\n",
       "      <td>0</td>\n",
       "      <td>0</td>\n",
       "    </tr>\n",
       "    <tr>\n",
       "      <th>win_odds</th>\n",
       "      <td>26</td>\n",
       "      <td>14</td>\n",
       "      <td>4.5</td>\n",
       "      <td>31</td>\n",
       "      <td>4.3</td>\n",
       "    </tr>\n",
       "    <tr>\n",
       "      <th>class</th>\n",
       "      <td>Class 5</td>\n",
       "      <td>Class 5</td>\n",
       "      <td>Class 5</td>\n",
       "      <td>Class 5</td>\n",
       "      <td>Class 5</td>\n",
       "    </tr>\n",
       "    <tr>\n",
       "      <th>going</th>\n",
       "      <td>GOOD</td>\n",
       "      <td>GOOD</td>\n",
       "      <td>GOOD</td>\n",
       "      <td>GOOD</td>\n",
       "      <td>GOOD</td>\n",
       "    </tr>\n",
       "    <tr>\n",
       "      <th>track</th>\n",
       "      <td>TURF - \"A\" Course</td>\n",
       "      <td>TURF - \"A\" Course</td>\n",
       "      <td>TURF - \"A\" Course</td>\n",
       "      <td>TURF - \"A\" Course</td>\n",
       "      <td>TURF - \"A\" Course</td>\n",
       "    </tr>\n",
       "    <tr>\n",
       "      <th>prize</th>\n",
       "      <td>550000</td>\n",
       "      <td>550000</td>\n",
       "      <td>550000</td>\n",
       "      <td>550000</td>\n",
       "      <td>550000</td>\n",
       "    </tr>\n",
       "    <tr>\n",
       "      <th>location</th>\n",
       "      <td>Sha Tin</td>\n",
       "      <td>Sha Tin</td>\n",
       "      <td>Sha Tin</td>\n",
       "      <td>Sha Tin</td>\n",
       "      <td>Sha Tin</td>\n",
       "    </tr>\n",
       "    <tr>\n",
       "      <th>distance_m</th>\n",
       "      <td>1200</td>\n",
       "      <td>1200</td>\n",
       "      <td>1200</td>\n",
       "      <td>1200</td>\n",
       "      <td>1200</td>\n",
       "    </tr>\n",
       "    <tr>\n",
       "      <th>rest_day</th>\n",
       "      <td>45</td>\n",
       "      <td>45</td>\n",
       "      <td>45</td>\n",
       "      <td>45</td>\n",
       "      <td>45</td>\n",
       "    </tr>\n",
       "    <tr>\n",
       "      <th>finish_time_s</th>\n",
       "      <td>70.37</td>\n",
       "      <td>70.47</td>\n",
       "      <td>70.66</td>\n",
       "      <td>70.71</td>\n",
       "      <td>70.72</td>\n",
       "    </tr>\n",
       "    <tr>\n",
       "      <th>pct_1st_last_j</th>\n",
       "      <td>0</td>\n",
       "      <td>0</td>\n",
       "      <td>0</td>\n",
       "      <td>0</td>\n",
       "      <td>0</td>\n",
       "    </tr>\n",
       "    <tr>\n",
       "      <th>pct_2nd_last_j</th>\n",
       "      <td>0</td>\n",
       "      <td>0</td>\n",
       "      <td>0</td>\n",
       "      <td>0</td>\n",
       "      <td>0</td>\n",
       "    </tr>\n",
       "    <tr>\n",
       "      <th>pct_3rd_last_j</th>\n",
       "      <td>0</td>\n",
       "      <td>0</td>\n",
       "      <td>0</td>\n",
       "      <td>0</td>\n",
       "      <td>0</td>\n",
       "    </tr>\n",
       "    <tr>\n",
       "      <th>pct_4th_last_j</th>\n",
       "      <td>0</td>\n",
       "      <td>0</td>\n",
       "      <td>0</td>\n",
       "      <td>0</td>\n",
       "      <td>0</td>\n",
       "    </tr>\n",
       "    <tr>\n",
       "      <th>pct_1st_last_t</th>\n",
       "      <td>0</td>\n",
       "      <td>0</td>\n",
       "      <td>0</td>\n",
       "      <td>0</td>\n",
       "      <td>0</td>\n",
       "    </tr>\n",
       "    <tr>\n",
       "      <th>pct_2nd_last_t</th>\n",
       "      <td>0</td>\n",
       "      <td>0</td>\n",
       "      <td>0</td>\n",
       "      <td>0</td>\n",
       "      <td>0</td>\n",
       "    </tr>\n",
       "    <tr>\n",
       "      <th>pct_3rd_last_t</th>\n",
       "      <td>0</td>\n",
       "      <td>0</td>\n",
       "      <td>0</td>\n",
       "      <td>0</td>\n",
       "      <td>0</td>\n",
       "    </tr>\n",
       "    <tr>\n",
       "      <th>pct_4th_last_t</th>\n",
       "      <td>0</td>\n",
       "      <td>0</td>\n",
       "      <td>0</td>\n",
       "      <td>0</td>\n",
       "      <td>0</td>\n",
       "    </tr>\n",
       "  </tbody>\n",
       "</table>\n",
       "</div>"
      ],
      "text/plain": [
       "                                         0                    1  \\\n",
       "season                           2013/2014            2013/2014   \n",
       "race_id                                  1                    1   \n",
       "race                                     1                    1   \n",
       "date                   2013-09-08 00:00:00  2013-09-08 00:00:00   \n",
       "place                                    1                    2   \n",
       "last_place                               0                    0   \n",
       "horse_id                              N432                 K226   \n",
       "horse_no                                10                    9   \n",
       "horse                       AMAZING ALWAYS       FLYING SUPREME   \n",
       "jockey                            K Teetan              W M Lai   \n",
       "trainer                       D E Ferraris               T K Ng   \n",
       "actual_weight                          125                  127   \n",
       "last_actual_weight                       0                    0   \n",
       "declared_horse_weight                 1126                 1074   \n",
       "draw                                     9                   11   \n",
       "last_lbw                                 0                    0   \n",
       "last_running_position                    0                    0   \n",
       "win_odds                                26                   14   \n",
       "class                              Class 5              Class 5   \n",
       "going                                 GOOD                 GOOD   \n",
       "track                    TURF - \"A\" Course    TURF - \"A\" Course   \n",
       "prize                               550000               550000   \n",
       "location                           Sha Tin              Sha Tin   \n",
       "distance_m                            1200                 1200   \n",
       "rest_day                                45                   45   \n",
       "finish_time_s                        70.37                70.47   \n",
       "pct_1st_last_j                           0                    0   \n",
       "pct_2nd_last_j                           0                    0   \n",
       "pct_3rd_last_j                           0                    0   \n",
       "pct_4th_last_j                           0                    0   \n",
       "pct_1st_last_t                           0                    0   \n",
       "pct_2nd_last_t                           0                    0   \n",
       "pct_3rd_last_t                           0                    0   \n",
       "pct_4th_last_t                           0                    0   \n",
       "\n",
       "                                         2                    3  \\\n",
       "season                           2013/2014            2013/2014   \n",
       "race_id                                  1                    1   \n",
       "race                                     1                    1   \n",
       "date                   2013-09-08 00:00:00  2013-09-08 00:00:00   \n",
       "place                                    3                    4   \n",
       "last_place                               0                    0   \n",
       "horse_id                              M410                 P139   \n",
       "horse_no                                11                    6   \n",
       "horse                            COSMO ONE     SOUTHERN SPRINGS   \n",
       "jockey                             D Whyte            K C Leung   \n",
       "trainer                           Y S Tsui             C S Shum   \n",
       "actual_weight                          123                  126   \n",
       "last_actual_weight                       0                    0   \n",
       "declared_horse_weight                 1030                 1107   \n",
       "draw                                    13                   10   \n",
       "last_lbw                                 0                    0   \n",
       "last_running_position                    0                    0   \n",
       "win_odds                               4.5                   31   \n",
       "class                              Class 5              Class 5   \n",
       "going                                 GOOD                 GOOD   \n",
       "track                    TURF - \"A\" Course    TURF - \"A\" Course   \n",
       "prize                               550000               550000   \n",
       "location                           Sha Tin              Sha Tin   \n",
       "distance_m                            1200                 1200   \n",
       "rest_day                                45                   45   \n",
       "finish_time_s                        70.66                70.71   \n",
       "pct_1st_last_j                           0                    0   \n",
       "pct_2nd_last_j                           0                    0   \n",
       "pct_3rd_last_j                           0                    0   \n",
       "pct_4th_last_j                           0                    0   \n",
       "pct_1st_last_t                           0                    0   \n",
       "pct_2nd_last_t                           0                    0   \n",
       "pct_3rd_last_t                           0                    0   \n",
       "pct_4th_last_t                           0                    0   \n",
       "\n",
       "                                         4  \n",
       "season                           2013/2014  \n",
       "race_id                                  1  \n",
       "race                                     1  \n",
       "date                   2013-09-08 00:00:00  \n",
       "place                                    5  \n",
       "last_place                               0  \n",
       "horse_id                              N156  \n",
       "horse_no                                 5  \n",
       "horse                     BERNARD'S CHOICE  \n",
       "jockey                            Z Purton  \n",
       "trainer                       P O'Sullivan  \n",
       "actual_weight                          128  \n",
       "last_actual_weight                       0  \n",
       "declared_horse_weight                 1044  \n",
       "draw                                     6  \n",
       "last_lbw                                 0  \n",
       "last_running_position                    0  \n",
       "win_odds                               4.3  \n",
       "class                              Class 5  \n",
       "going                                 GOOD  \n",
       "track                    TURF - \"A\" Course  \n",
       "prize                               550000  \n",
       "location                           Sha Tin  \n",
       "distance_m                            1200  \n",
       "rest_day                                45  \n",
       "finish_time_s                        70.72  \n",
       "pct_1st_last_j                           0  \n",
       "pct_2nd_last_j                           0  \n",
       "pct_3rd_last_j                           0  \n",
       "pct_4th_last_j                           0  \n",
       "pct_1st_last_t                           0  \n",
       "pct_2nd_last_t                           0  \n",
       "pct_3rd_last_t                           0  \n",
       "pct_4th_last_t                           0  "
      ]
     },
     "execution_count": 7,
     "metadata": {},
     "output_type": "execute_result"
    }
   ],
   "source": [
    "train_df.head().T"
   ]
  },
  {
   "cell_type": "code",
   "execution_count": 8,
   "metadata": {},
   "outputs": [],
   "source": [
    "cat_vars=['season','last_place','horse','jockey','trainer','class','track','location']\n",
    "\n",
    "cont_vars=['actual_weight','last_actual_weight','draw','last_lbw','last_running_position',\n",
    "           'distance_m','rest_day','pct_1st_last_j','pct_2nd_last_j','pct_3rd_last_j',\n",
    "           'pct_4th_last_j','pct_1st_last_t','pct_2nd_last_t','pct_3rd_last_t','pct_4th_last_t']\n",
    "\n",
    "dep_var='finish_time_s'"
   ]
  },
  {
   "cell_type": "code",
   "execution_count": 9,
   "metadata": {},
   "outputs": [],
   "source": [
    "# filter relevant columns from train_df and put it into data loader\n",
    "df = train_df[cat_vars + cont_vars + [dep_var,'date']].copy()"
   ]
  },
  {
   "cell_type": "code",
   "execution_count": 10,
   "metadata": {},
   "outputs": [
    {
     "data": {
      "text/plain": [
       "(Timestamp('2019-09-01 00:00:00'), Timestamp('2020-10-07 00:00:00'))"
      ]
     },
     "execution_count": 10,
     "metadata": {},
     "output_type": "execute_result"
    }
   ],
   "source": [
    "test_df['date'].min(), test_df['date'].max()"
   ]
  },
  {
   "cell_type": "code",
   "execution_count": 11,
   "metadata": {},
   "outputs": [
    {
     "data": {
      "text/plain": [
       "11327"
      ]
     },
     "execution_count": 11,
     "metadata": {},
     "output_type": "execute_result"
    }
   ],
   "source": [
    "# get valid set size\n",
    "cut = train_df['date'][(train_df['date'] == train_df['date'][len(test_df)])].index.max()\n",
    "cut"
   ]
  },
  {
   "cell_type": "code",
   "execution_count": 12,
   "metadata": {},
   "outputs": [],
   "source": [
    "valid_idx = range(cut)"
   ]
  },
  {
   "cell_type": "code",
   "execution_count": 13,
   "metadata": {},
   "outputs": [
    {
     "data": {
      "text/plain": [
       "0    70.37\n",
       "1    70.47\n",
       "2    70.66\n",
       "3    70.71\n",
       "4    70.72\n",
       "Name: finish_time_s, dtype: float64"
      ]
     },
     "execution_count": 13,
     "metadata": {},
     "output_type": "execute_result"
    }
   ],
   "source": [
    "df[dep_var].head()"
   ]
  },
  {
   "cell_type": "code",
   "execution_count": 14,
   "metadata": {},
   "outputs": [],
   "source": [
    "data = (TabularList.from_df(df, path=path, cat_names=cat_vars, cont_names=cont_vars, procs=procs,)\n",
    "                .split_by_idx(valid_idx)\n",
    "                .label_from_df(cols=dep_var, label_cls=FloatList, log=True)\n",
    "                .add_test(TabularList.from_df(test_df[cat_vars + cont_vars + ['date']], path=path, cat_names=cat_vars, cont_names=cont_vars))\n",
    "                .databunch())"
   ]
  },
  {
   "cell_type": "code",
   "execution_count": 15,
   "metadata": {},
   "outputs": [],
   "source": [
    "max_log_y = np.log(np.max(train_df['finish_time_s'])*1.2)\n",
    "y_range = torch.tensor([0, max_log_y], device=defaults.device)"
   ]
  },
  {
   "cell_type": "code",
   "execution_count": 16,
   "metadata": {},
   "outputs": [],
   "source": [
    "learn = tabular_learner(data, layers=[1000,500], ps=[0.002,0.05], emb_drop=0.04, \n",
    "                        y_range=y_range, metrics=exp_rmspe)"
   ]
  },
  {
   "cell_type": "code",
   "execution_count": 17,
   "metadata": {},
   "outputs": [
    {
     "data": {
      "text/plain": [
       "TabularModel(\n",
       "  (embeds): ModuleList(\n",
       "    (0): Embedding(6, 4)\n",
       "    (1): Embedding(16, 8)\n",
       "    (2): Embedding(3054, 143)\n",
       "    (3): Embedding(131, 25)\n",
       "    (4): Embedding(128, 24)\n",
       "    (5): Embedding(18, 8)\n",
       "    (6): Embedding(8, 5)\n",
       "    (7): Embedding(3, 3)\n",
       "  )\n",
       "  (emb_drop): Dropout(p=0.04, inplace=False)\n",
       "  (bn_cont): BatchNorm1d(15, eps=1e-05, momentum=0.1, affine=True, track_running_stats=True)\n",
       "  (layers): Sequential(\n",
       "    (0): Linear(in_features=235, out_features=1000, bias=True)\n",
       "    (1): ReLU(inplace=True)\n",
       "    (2): BatchNorm1d(1000, eps=1e-05, momentum=0.1, affine=True, track_running_stats=True)\n",
       "    (3): Dropout(p=0.002, inplace=False)\n",
       "    (4): Linear(in_features=1000, out_features=500, bias=True)\n",
       "    (5): ReLU(inplace=True)\n",
       "    (6): BatchNorm1d(500, eps=1e-05, momentum=0.1, affine=True, track_running_stats=True)\n",
       "    (7): Dropout(p=0.05, inplace=False)\n",
       "    (8): Linear(in_features=500, out_features=1, bias=True)\n",
       "  )\n",
       ")"
      ]
     },
     "execution_count": 17,
     "metadata": {},
     "output_type": "execute_result"
    }
   ],
   "source": [
    "learn.model\n"
   ]
  },
  {
   "cell_type": "code",
   "execution_count": 18,
   "metadata": {},
   "outputs": [
    {
     "data": {
      "text/html": [
       "\n",
       "    <div>\n",
       "        <style>\n",
       "            /* Turns off some styling */\n",
       "            progress {\n",
       "                /* gets rid of default border in Firefox and Opera. */\n",
       "                border: none;\n",
       "                /* Needs to be in here for Safari polyfill so background images work as expected. */\n",
       "                background-size: auto;\n",
       "            }\n",
       "            .progress-bar-interrupted, .progress-bar-interrupted::-webkit-progress-bar {\n",
       "                background: #F44336;\n",
       "            }\n",
       "        </style>\n",
       "      <progress value='0' class='' max='1', style='width:300px; height:20px; vertical-align: middle;'></progress>\n",
       "      0.00% [0/1 00:00<00:00]\n",
       "    </div>\n",
       "    \n",
       "<table border=\"1\" class=\"dataframe\">\n",
       "  <thead>\n",
       "    <tr style=\"text-align: left;\">\n",
       "      <th>epoch</th>\n",
       "      <th>train_loss</th>\n",
       "      <th>valid_loss</th>\n",
       "      <th>exp_rmspe</th>\n",
       "      <th>time</th>\n",
       "    </tr>\n",
       "  </thead>\n",
       "  <tbody>\n",
       "  </tbody>\n",
       "</table><p>\n",
       "\n",
       "    <div>\n",
       "        <style>\n",
       "            /* Turns off some styling */\n",
       "            progress {\n",
       "                /* gets rid of default border in Firefox and Opera. */\n",
       "                border: none;\n",
       "                /* Needs to be in here for Safari polyfill so background images work as expected. */\n",
       "                background-size: auto;\n",
       "            }\n",
       "            .progress-bar-interrupted, .progress-bar-interrupted::-webkit-progress-bar {\n",
       "                background: #F44336;\n",
       "            }\n",
       "        </style>\n",
       "      <progress value='97' class='' max='736', style='width:300px; height:20px; vertical-align: middle;'></progress>\n",
       "      13.18% [97/736 00:02<00:13 1.8344]\n",
       "    </div>\n",
       "    "
      ],
      "text/plain": [
       "<IPython.core.display.HTML object>"
      ]
     },
     "metadata": {},
     "output_type": "display_data"
    },
    {
     "name": "stdout",
     "output_type": "stream",
     "text": [
      "LR Finder is complete, type {learner_name}.recorder.plot() to see the graph.\n"
     ]
    }
   ],
   "source": [
    "learn.lr_find()"
   ]
  },
  {
   "cell_type": "code",
   "execution_count": 19,
   "metadata": {},
   "outputs": [
    {
     "data": {
      "image/png": "[encoded data removed]",
      "text/plain": [
       "<Figure size 432x288 with 1 Axes>"
      ]
     },
     "metadata": {
      "needs_background": "light"
     },
     "output_type": "display_data"
    }
   ],
   "source": [
    "learn.recorder.plot()"
   ]
  },
  {
   "cell_type": "code",
   "execution_count": 20,
   "metadata": {},
   "outputs": [
    {
     "data": {
      "text/html": [
       "<table border=\"1\" class=\"dataframe\">\n",
       "  <thead>\n",
       "    <tr style=\"text-align: left;\">\n",
       "      <th>epoch</th>\n",
       "      <th>train_loss</th>\n",
       "      <th>valid_loss</th>\n",
       "      <th>exp_rmspe</th>\n",
       "      <th>time</th>\n",
       "    </tr>\n",
       "  </thead>\n",
       "  <tbody>\n",
       "    <tr>\n",
       "      <td>0</td>\n",
       "      <td>0.007891</td>\n",
       "      <td>0.009168</td>\n",
       "      <td>0.101222</td>\n",
       "      <td>00:08</td>\n",
       "    </tr>\n",
       "    <tr>\n",
       "      <td>1</td>\n",
       "      <td>0.008568</td>\n",
       "      <td>0.001760</td>\n",
       "      <td>0.039383</td>\n",
       "      <td>00:09</td>\n",
       "    </tr>\n",
       "    <tr>\n",
       "      <td>2</td>\n",
       "      <td>0.005378</td>\n",
       "      <td>0.000562</td>\n",
       "      <td>0.022648</td>\n",
       "      <td>00:08</td>\n",
       "    </tr>\n",
       "    <tr>\n",
       "      <td>3</td>\n",
       "      <td>0.002552</td>\n",
       "      <td>0.000465</td>\n",
       "      <td>0.016901</td>\n",
       "      <td>00:08</td>\n",
       "    </tr>\n",
       "    <tr>\n",
       "      <td>4</td>\n",
       "      <td>0.001763</td>\n",
       "      <td>0.000343</td>\n",
       "      <td>0.016895</td>\n",
       "      <td>00:08</td>\n",
       "    </tr>\n",
       "  </tbody>\n",
       "</table>"
      ],
      "text/plain": [
       "<IPython.core.display.HTML object>"
      ]
     },
     "metadata": {},
     "output_type": "display_data"
    }
   ],
   "source": [
    "learn.fit_one_cycle(5, 3e-2, wd=0.2)"
   ]
  },
  {
   "cell_type": "code",
   "execution_count": 21,
   "metadata": {},
   "outputs": [],
   "source": [
    "learn.save('v1')"
   ]
  },
  {
   "cell_type": "code",
   "execution_count": 22,
   "metadata": {},
   "outputs": [
    {
     "data": {
      "text/html": [
       "<table border=\"1\" class=\"dataframe\">\n",
       "  <thead>\n",
       "    <tr style=\"text-align: left;\">\n",
       "      <th>epoch</th>\n",
       "      <th>train_loss</th>\n",
       "      <th>valid_loss</th>\n",
       "      <th>exp_rmspe</th>\n",
       "      <th>time</th>\n",
       "    </tr>\n",
       "  </thead>\n",
       "  <tbody>\n",
       "    <tr>\n",
       "      <td>0</td>\n",
       "      <td>0.001670</td>\n",
       "      <td>0.000541</td>\n",
       "      <td>0.019331</td>\n",
       "      <td>00:08</td>\n",
       "    </tr>\n",
       "    <tr>\n",
       "      <td>1</td>\n",
       "      <td>0.001494</td>\n",
       "      <td>0.000378</td>\n",
       "      <td>0.017923</td>\n",
       "      <td>00:08</td>\n",
       "    </tr>\n",
       "    <tr>\n",
       "      <td>2</td>\n",
       "      <td>0.001611</td>\n",
       "      <td>0.000560</td>\n",
       "      <td>0.019490</td>\n",
       "      <td>00:09</td>\n",
       "    </tr>\n",
       "  </tbody>\n",
       "</table>"
      ],
      "text/plain": [
       "<IPython.core.display.HTML object>"
      ]
     },
     "metadata": {},
     "output_type": "display_data"
    }
   ],
   "source": [
    "learn.fit_one_cycle(3,3e-5)"
   ]
  },
  {
   "cell_type": "code",
   "execution_count": 23,
   "metadata": {},
   "outputs": [
    {
     "data": {
      "text/html": [
       "<table border=\"1\" class=\"dataframe\">\n",
       "  <thead>\n",
       "    <tr style=\"text-align: left;\">\n",
       "      <th>epoch</th>\n",
       "      <th>train_loss</th>\n",
       "      <th>valid_loss</th>\n",
       "      <th>exp_rmspe</th>\n",
       "      <th>time</th>\n",
       "    </tr>\n",
       "  </thead>\n",
       "  <tbody>\n",
       "    <tr>\n",
       "      <td>0</td>\n",
       "      <td>0.001698</td>\n",
       "      <td>0.000422</td>\n",
       "      <td>0.015265</td>\n",
       "      <td>00:08</td>\n",
       "    </tr>\n",
       "    <tr>\n",
       "      <td>1</td>\n",
       "      <td>0.001798</td>\n",
       "      <td>0.000320</td>\n",
       "      <td>0.015109</td>\n",
       "      <td>00:08</td>\n",
       "    </tr>\n",
       "    <tr>\n",
       "      <td>2</td>\n",
       "      <td>0.001669</td>\n",
       "      <td>0.000500</td>\n",
       "      <td>0.018533</td>\n",
       "      <td>00:09</td>\n",
       "    </tr>\n",
       "  </tbody>\n",
       "</table>"
      ],
      "text/plain": [
       "<IPython.core.display.HTML object>"
      ]
     },
     "metadata": {},
     "output_type": "display_data"
    }
   ],
   "source": [
    "learn.fit_one_cycle(3,1e-6)"
   ]
  },
  {
   "cell_type": "code",
   "execution_count": 24,
   "metadata": {},
   "outputs": [
    {
     "data": {
      "text/html": [],
      "text/plain": [
       "<IPython.core.display.HTML object>"
      ]
     },
     "metadata": {},
     "output_type": "display_data"
    }
   ],
   "source": [
    "test_preds=learn.get_preds(DatasetType.Test)"
   ]
  },
  {
   "cell_type": "code",
   "execution_count": 25,
   "metadata": {},
   "outputs": [
    {
     "data": {
      "text/plain": [
       "tensor([[95.7179],\n",
       "        [96.5797],\n",
       "        [95.3946],\n",
       "        [95.8897],\n",
       "        [96.1864],\n",
       "        [96.0628],\n",
       "        [95.8792],\n",
       "        [96.1615],\n",
       "        [95.8357],\n",
       "        [71.2945],\n",
       "        [71.4361],\n",
       "        [71.2107],\n",
       "        [71.2421],\n",
       "        [71.3846],\n",
       "        [71.4286],\n",
       "        [70.9445],\n",
       "        [70.8730],\n",
       "        [71.5389],\n",
       "        [71.2535],\n",
       "        [71.2741]])"
      ]
     },
     "execution_count": 25,
     "metadata": {},
     "output_type": "execute_result"
    }
   ],
   "source": [
    "torch.exp(test_preds[0][:20])"
   ]
  },
  {
   "cell_type": "code",
   "execution_count": 26,
   "metadata": {},
   "outputs": [
    {
     "data": {
      "text/plain": [
       "58436    95.71\n",
       "58435    95.68\n",
       "58432    95.48\n",
       "58433    95.50\n",
       "58438    95.79\n",
       "58439    96.67\n",
       "58434    95.57\n",
       "58440    97.15\n",
       "58437    95.77\n",
       "58446    70.63\n",
       "58442    70.38\n",
       "58448    70.72\n",
       "58447    70.72\n",
       "58450    70.90\n",
       "58454    71.77\n",
       "58445    70.50\n",
       "58443    70.39\n",
       "58451    70.98\n",
       "58449    70.72\n",
       "58452    70.99\n",
       "Name: finish_time_s, dtype: float64"
      ]
     },
     "execution_count": 26,
     "metadata": {},
     "output_type": "execute_result"
    }
   ],
   "source": [
    "target_test[:20]"
   ]
  },
  {
   "cell_type": "code",
   "execution_count": 27,
   "metadata": {},
   "outputs": [],
   "source": [
    "learn.save('v2')"
   ]
  },
  {
   "cell_type": "code",
   "execution_count": 28,
   "metadata": {},
   "outputs": [
    {
     "data": {
      "text/plain": [
       "[tensor([[4.5614],\n",
       "         [4.5704],\n",
       "         [4.5580],\n",
       "         ...,\n",
       "         [4.0684],\n",
       "         [4.0742],\n",
       "         [4.0691]]),\n",
       " tensor([0, 0, 0,  ..., 0, 0, 0])]"
      ]
     },
     "execution_count": 28,
     "metadata": {},
     "output_type": "execute_result"
    }
   ],
   "source": [
    "test_preds"
   ]
  },
  {
   "cell_type": "markdown",
   "metadata": {},
   "source": [
    "### Prize from betting hottest choice(lowest win odd in each race)"
   ]
  },
  {
   "cell_type": "code",
   "execution_count": 29,
   "metadata": {},
   "outputs": [],
   "source": [
    "def get_place_prize(df):\n",
    "    '''calculate the prize won by betting on place only, return net prize, prize won and number of race'''\n",
    "    # get win price for all first place in test set\n",
    "    hottest=df.loc[df.groupby(['season','race_id'])['win_odds'].idxmin()]\n",
    "    wins=hottest[hottest['place']==1][['date','race_id','horse','win_odds']]\n",
    "\n",
    "    # bet 10 dollars for each race\n",
    "    prize_hottest=sum(wins['win_odds']*10)\n",
    "    num_of_race=hottest.shape[0]\n",
    "    result_hottest=prize_hottest-num_of_race*10\n",
    "    return_rt=round(prize_hottest/(num_of_race*10)-1,2)\n",
    "    \n",
    "    return result_hottest,prize_hottest,num_of_race,return_rt"
   ]
  },
  {
   "cell_type": "code",
   "execution_count": 30,
   "metadata": {},
   "outputs": [
    {
     "data": {
      "text/plain": [
       "(-2177.0, 7023.0, 920, -0.24)"
      ]
     },
     "execution_count": 30,
     "metadata": {},
     "output_type": "execute_result"
    }
   ],
   "source": [
    "get_place_prize(df_pred)"
   ]
  },
  {
   "cell_type": "markdown",
   "metadata": {},
   "source": [
    "### Prize from betting the shortest predicted finish time for each race"
   ]
  },
  {
   "cell_type": "code",
   "execution_count": 31,
   "metadata": {},
   "outputs": [],
   "source": [
    "def get_predict_prize(df,pred):\n",
    "    # get predict \n",
    "    df['predict']=torch.exp(pred[0])\n",
    "    df['predict']=df['predict'].apply(lambda x:x[0].numpy()) #convert scaler tensor to float\n",
    "    fastest=df.loc[df.groupby(['season','race_id'])['predict'].idxmin()]\n",
    "    wins_pred=fastest[fastest['place']==1][['date','race_id','horse','win_odds']]\n",
    "    wins_pred.sort_index().head(20)\n",
    "    # bet 10 dollars for each race\n",
    "    prize_fastest=sum(wins_pred['win_odds']*10)\n",
    "    num_of_race=fastest.shape[0]\n",
    "                                            \n",
    "    result_fastest=prize_fastest-num_of_race*10\n",
    "    result_fastest,prize_fastest,num_of_race\n",
    "    return_rt = round(prize_fastest/(num_of_race*10)-1,2)\n",
    "    return result_fastest,prize_fastest,num_of_race,return_rt"
   ]
  },
  {
   "cell_type": "code",
   "execution_count": 32,
   "metadata": {},
   "outputs": [
    {
     "data": {
      "text/plain": [
       "(-986.0, 8214.0, 920, -0.11)"
      ]
     },
     "execution_count": 32,
     "metadata": {},
     "output_type": "execute_result"
    }
   ],
   "source": [
    "get_predict_prize(df_pred,test_preds)"
   ]
  },
  {
   "cell_type": "markdown",
   "metadata": {},
   "source": [
    "### Export model in pickle"
   ]
  },
  {
   "cell_type": "code",
   "execution_count": 33,
   "metadata": {},
   "outputs": [],
   "source": [
    "learn.export('../data/models/horse_racing.pkl')"
   ]
  },
  {
   "cell_type": "markdown",
   "metadata": {},
   "source": [
    "### Load learner to give prediction"
   ]
  },
  {
   "cell_type": "code",
   "execution_count": 34,
   "metadata": {},
   "outputs": [
    {
     "data": {
      "text/plain": [
       "TabularModel(\n",
       "  (embeds): ModuleList(\n",
       "    (0): Embedding(6, 4)\n",
       "    (1): Embedding(16, 8)\n",
       "    (2): Embedding(3054, 143)\n",
       "    (3): Embedding(131, 25)\n",
       "    (4): Embedding(128, 24)\n",
       "    (5): Embedding(18, 8)\n",
       "    (6): Embedding(8, 5)\n",
       "    (7): Embedding(3, 3)\n",
       "  )\n",
       "  (emb_drop): Dropout(p=0.04, inplace=False)\n",
       "  (bn_cont): BatchNorm1d(15, eps=1e-05, momentum=0.1, affine=True, track_running_stats=True)\n",
       "  (layers): Sequential(\n",
       "    (0): Linear(in_features=235, out_features=1000, bias=True)\n",
       "    (1): ReLU(inplace=True)\n",
       "    (2): BatchNorm1d(1000, eps=1e-05, momentum=0.1, affine=True, track_running_stats=True)\n",
       "    (3): Dropout(p=0.002, inplace=False)\n",
       "    (4): Linear(in_features=1000, out_features=500, bias=True)\n",
       "    (5): ReLU(inplace=True)\n",
       "    (6): BatchNorm1d(500, eps=1e-05, momentum=0.1, affine=True, track_running_stats=True)\n",
       "    (7): Dropout(p=0.05, inplace=False)\n",
       "    (8): Linear(in_features=500, out_features=1, bias=True)\n",
       "  )\n",
       ")"
      ]
     },
     "execution_count": 34,
     "metadata": {},
     "output_type": "execute_result"
    }
   ],
   "source": [
    "learn2 = load_learner('../data/models','horse_racing.pkl')\n",
    "learn2.model"
   ]
  },
  {
   "cell_type": "code",
   "execution_count": 35,
   "metadata": {},
   "outputs": [
    {
     "data": {
      "text/plain": [
       "season                             2019/2020\n",
       "last_place                                 3\n",
       "horse                            GOLD VELVET\n",
       "jockey                            L Hewitson\n",
       "trainer                          A T Millard\n",
       "class                                Class 5\n",
       "track                      TURF - \"B\" Course\n",
       "location                             Sha Tin\n",
       "actual_weight                            133\n",
       "last_actual_weight                       133\n",
       "draw                                       8\n",
       "last_lbw                                 2.5\n",
       "last_running_position                   6.75\n",
       "distance_m                              1600\n",
       "rest_day                                  53\n",
       "pct_1st_last_j                             0\n",
       "pct_2nd_last_j                             0\n",
       "pct_3rd_last_j                             0\n",
       "pct_4th_last_j                             0\n",
       "pct_1st_last_t                          8.99\n",
       "pct_2nd_last_t                           7.9\n",
       "pct_3rd_last_t                         11.99\n",
       "pct_4th_last_t                          8.45\n",
       "date                     2019-09-01 00:00:00\n",
       "Name: 58436, dtype: object"
      ]
     },
     "execution_count": 35,
     "metadata": {},
     "output_type": "execute_result"
    }
   ],
   "source": [
    "single_test=test_df[cat_vars + cont_vars + ['date']].iloc[0]\n",
    "single_test"
   ]
  },
  {
   "cell_type": "code",
   "execution_count": 36,
   "metadata": {},
   "outputs": [
    {
     "data": {
      "text/plain": [
       "24"
      ]
     },
     "execution_count": 36,
     "metadata": {},
     "output_type": "execute_result"
    }
   ],
   "source": [
    "len(single_test)"
   ]
  },
  {
   "cell_type": "code",
   "execution_count": 37,
   "metadata": {},
   "outputs": [],
   "source": [
    "test_set = test_df[cat_vars + cont_vars + ['date']]"
   ]
  },
  {
   "cell_type": "code",
   "execution_count": 38,
   "metadata": {},
   "outputs": [
    {
     "data": {
      "text/plain": [
       "(FloatItem [4.561405], tensor([4.5614]), tensor([4.5614]))"
      ]
     },
     "execution_count": 38,
     "metadata": {},
     "output_type": "execute_result"
    }
   ],
   "source": [
    "res_pred=learn2.predict(test_set.iloc[0])\n",
    "res_pred"
   ]
  },
  {
   "cell_type": "code",
   "execution_count": 39,
   "metadata": {},
   "outputs": [
    {
     "data": {
      "text/plain": [
       "(11296, 24)"
      ]
     },
     "execution_count": 39,
     "metadata": {},
     "output_type": "execute_result"
    }
   ],
   "source": [
    "test_set.shape"
   ]
  },
  {
   "cell_type": "code",
   "execution_count": 40,
   "metadata": {},
   "outputs": [
    {
     "data": {
      "text/plain": [
       "season                             2019/2020\n",
       "last_place                                 3\n",
       "horse                            GOLD VELVET\n",
       "jockey                            L Hewitson\n",
       "trainer                          A T Millard\n",
       "class                                Class 5\n",
       "track                      TURF - \"B\" Course\n",
       "location                             Sha Tin\n",
       "actual_weight                            133\n",
       "last_actual_weight                       133\n",
       "draw                                       8\n",
       "last_lbw                                 2.5\n",
       "last_running_position                   6.75\n",
       "distance_m                              1600\n",
       "rest_day                                  53\n",
       "pct_1st_last_j                             0\n",
       "pct_2nd_last_j                             0\n",
       "pct_3rd_last_j                             0\n",
       "pct_4th_last_j                             0\n",
       "pct_1st_last_t                          8.99\n",
       "pct_2nd_last_t                           7.9\n",
       "pct_3rd_last_t                         11.99\n",
       "pct_4th_last_t                          8.45\n",
       "date                     2019-09-01 00:00:00\n",
       "Name: 58436, dtype: object"
      ]
     },
     "execution_count": 40,
     "metadata": {},
     "output_type": "execute_result"
    }
   ],
   "source": [
    "test_set.iloc[0]"
   ]
  },
  {
   "cell_type": "code",
   "execution_count": 41,
   "metadata": {},
   "outputs": [
    {
     "data": {
      "text/plain": [
       "season                             2019/2020\n",
       "race_id                                    1\n",
       "race                                       1\n",
       "date                     2019-09-01 00:00:00\n",
       "place                                      5\n",
       "last_place                                 3\n",
       "horse_id                                V400\n",
       "horse_no                                   1\n",
       "horse                            GOLD VELVET\n",
       "jockey                            L Hewitson\n",
       "trainer                          A T Millard\n",
       "actual_weight                            133\n",
       "last_actual_weight                       133\n",
       "declared_horse_weight                   1155\n",
       "draw                                       8\n",
       "last_lbw                                 2.5\n",
       "last_running_position                   6.75\n",
       "win_odds                                   7\n",
       "class                                Class 5\n",
       "going                                   GOOD\n",
       "track                      TURF - \"B\" Course\n",
       "prize                                 725000\n",
       "location                             Sha Tin\n",
       "distance_m                              1600\n",
       "rest_day                                  53\n",
       "pct_1st_last_j                             0\n",
       "pct_2nd_last_j                             0\n",
       "pct_3rd_last_j                             0\n",
       "pct_4th_last_j                             0\n",
       "pct_1st_last_t                          8.99\n",
       "pct_2nd_last_t                           7.9\n",
       "pct_3rd_last_t                         11.99\n",
       "pct_4th_last_t                          8.45\n",
       "Name: 58436, dtype: object"
      ]
     },
     "execution_count": 41,
     "metadata": {},
     "output_type": "execute_result"
    }
   ],
   "source": [
    "test_df.iloc[0]"
   ]
  },
  {
   "cell_type": "code",
   "execution_count": 42,
   "metadata": {},
   "outputs": [
    {
     "data": {
      "text/plain": [
       "(33,)"
      ]
     },
     "execution_count": 42,
     "metadata": {},
     "output_type": "execute_result"
    }
   ],
   "source": [
    "test_df.iloc[0].shape"
   ]
  },
  {
   "cell_type": "code",
   "execution_count": 43,
   "metadata": {},
   "outputs": [
    {
     "data": {
      "text/plain": [
       "tensor([95.7179])"
      ]
     },
     "execution_count": 43,
     "metadata": {},
     "output_type": "execute_result"
    }
   ],
   "source": [
    "torch.exp(res_pred[2])"
   ]
  },
  {
   "cell_type": "code",
   "execution_count": 44,
   "metadata": {},
   "outputs": [
    {
     "name": "stdout",
     "output_type": "stream",
     "text": [
      "<class 'pandas.core.frame.DataFrame'>\n",
      "Int64Index: 11296 entries, 58436 to 69725\n",
      "Data columns (total 24 columns):\n",
      " #   Column                 Non-Null Count  Dtype         \n",
      "---  ------                 --------------  -----         \n",
      " 0   season                 11296 non-null  object        \n",
      " 1   last_place             11296 non-null  float64       \n",
      " 2   horse                  11296 non-null  object        \n",
      " 3   jockey                 11296 non-null  object        \n",
      " 4   trainer                11296 non-null  object        \n",
      " 5   class                  11296 non-null  object        \n",
      " 6   track                  11296 non-null  object        \n",
      " 7   location               11296 non-null  object        \n",
      " 8   actual_weight          11296 non-null  float64       \n",
      " 9   last_actual_weight     11296 non-null  float64       \n",
      " 10  draw                   11296 non-null  int64         \n",
      " 11  last_lbw               11296 non-null  float64       \n",
      " 12  last_running_position  11296 non-null  float64       \n",
      " 13  distance_m             11296 non-null  int64         \n",
      " 14  rest_day               11296 non-null  float64       \n",
      " 15  pct_1st_last_j         11296 non-null  float64       \n",
      " 16  pct_2nd_last_j         11296 non-null  float64       \n",
      " 17  pct_3rd_last_j         11296 non-null  float64       \n",
      " 18  pct_4th_last_j         11296 non-null  float64       \n",
      " 19  pct_1st_last_t         11296 non-null  float64       \n",
      " 20  pct_2nd_last_t         11296 non-null  float64       \n",
      " 21  pct_3rd_last_t         11296 non-null  float64       \n",
      " 22  pct_4th_last_t         11296 non-null  float64       \n",
      " 23  date                   11296 non-null  datetime64[ns]\n",
      "dtypes: datetime64[ns](1), float64(14), int64(2), object(7)\n",
      "memory usage: 2.2+ MB\n"
     ]
    }
   ],
   "source": [
    "test_set.info()"
   ]
  }
 ],
 "metadata": {
  "environment": {
   "name": "pytorch-gpu.1-4.m50",
   "type": "gcloud",
   "uri": "gcr.io/deeplearning-platform-release/pytorch-gpu.1-4:m50"
  },
  "kernelspec": {
   "display_name": "Python 3",
   "language": "python",
   "name": "python3"
  },
  "language_info": {
   "codemirror_mode": {
    "name": "ipython",
    "version": 3
   },
   "file_extension": ".py",
   "mimetype": "text/x-python",
   "name": "python",
   "nbconvert_exporter": "python",
   "pygments_lexer": "ipython3",
   "version": "3.7.6"
  }
 },
 "nbformat": 4,
 "nbformat_minor": 4
}
